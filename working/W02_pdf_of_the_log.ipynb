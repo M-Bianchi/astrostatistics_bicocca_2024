{
 "cells": [
  {
   "cell_type": "code",
   "execution_count": 1,
   "metadata": {},
   "outputs": [],
   "source": [
    "import numpy as np\n",
    "from matplotlib import pyplot as plt\n",
    "import time\n",
    "\n",
    "np.random.seed(time.gmtime())"
   ]
  },
  {
   "cell_type": "markdown",
   "metadata": {},
   "source": [
    "Consider a random variable $x$ with pdf $p_x(x)$ and another random variable $y = f(x)$. We want to find $p_y(y)$.\n",
    "\n",
    "The probability must be conserved and, in particular, the probability of having $x < x_o$ must be equal to the probability of having $y < y_o=f(x_o)$. \n",
    "\n",
    "$$\n",
    "P_x(x_o) = \\int_{-\\infty}^{x_o} p_x(x) \\,dx = P(y_o) = \\int_{-\\infty}^{y_o} p_y(y) \\,dy \n",
    "$$\n",
    "\n",
    "$$\n",
    "p_y(y_o) = \\dfrac{dP_y(y_o)}{dy} = \\dfrac{d}{dy} \\left( \\int_{-\\infty}^{x_o} p_x(x) \\,dx \\right) = \\dfrac{dx}{dy} \\dfrac{d}{dx} \\left( \\int_{-\\infty}^{x_o} p_x(x) \\,dx \\right) = \\dfrac{dx}{dy} \\: p_x(x_o) \n",
    "$$\n",
    "\n",
    "$$\n",
    "p_y(y) = \\dfrac{dx}{dy} \\: p_x(f^{-1}(y))\n",
    "$$"
   ]
  }
 ],
 "metadata": {
  "kernelspec": {
   "display_name": "Astrostatistics",
   "language": "python",
   "name": "python3"
  },
  "language_info": {
   "codemirror_mode": {
    "name": "ipython",
    "version": 3
   },
   "file_extension": ".py",
   "mimetype": "text/x-python",
   "name": "python",
   "nbconvert_exporter": "python",
   "pygments_lexer": "ipython3",
   "version": "3.12.2"
  }
 },
 "nbformat": 4,
 "nbformat_minor": 2
}

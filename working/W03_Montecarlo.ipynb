{
 "cells": [
  {
   "cell_type": "code",
   "execution_count": 9,
   "metadata": {},
   "outputs": [],
   "source": [
    "import numpy as np\n",
    "import matplotlib.pyplot as plt\n",
    "from scipy import stats"
   ]
  },
  {
   "cell_type": "markdown",
   "metadata": {},
   "source": [
    "### 1. A gaussian integral\n",
    "\n",
    "Using Monte Carlo integration, check that\n",
    "\n",
    "$$ \\int_0^\\infty x^3 \\exp\\left(-\\frac{x^2}{2\\sigma^2}\\right) \\,dx = 2\\sigma^4 .$$\n",
    "\n",
    "- Does the result converge with the number of samples? And how does the error go down?\n",
    "- Do it many times. For a given $N$, how are the result distributed? We'll talk about model fitting at lenght later on, but for now try to fit it by hand with a parametrized model. (If N is large enough you should get something that looks *very* accurate! And if $N$ is small?)\n",
    "- How does the distribution change if $N$ increases?\n",
    "\n",
    "(Hint: think about sample mean and sample variance)"
   ]
  },
  {
   "cell_type": "markdown",
   "metadata": {},
   "source": [
    "# Code"
   ]
  },
  {
   "cell_type": "markdown",
   "metadata": {},
   "source": [
    "$$ \\int_0^\\infty x^3 \\exp\\left(-\\frac{x^2}{2\\sigma^2}\\right) \\,dx = \\sigma\\sqrt{2\\pi} \\int_0^\\infty x^3 \\mathscr{N}\\left(x|0,\\sigma\\right) \\,dx $$"
   ]
  },
  {
   "cell_type": "markdown",
   "metadata": {},
   "source": [
    "$$ \\int_0^\\infty x^3 \\mathscr{N}\\left(x|0,\\sigma\\right) \\,dx =  \\sigma^3\\sqrt{\\dfrac{2}{\\pi}}$$"
   ]
  },
  {
   "cell_type": "markdown",
   "metadata": {},
   "source": [
    "$$ \\int_0^\\infty \\mathscr{N}\\left(x|0,\\sigma\\right) \\,dx = 2 $$"
   ]
  },
  {
   "cell_type": "markdown",
   "metadata": {},
   "source": [
    "$$ \\int_0^\\infty x^3 \\left(\\dfrac{1}{2}\\mathscr{N}\\left(x|0,\\sigma\\right)\\right) \\,dx = \\dfrac{\\sigma^3}{\\sqrt{2\\pi}}$$"
   ]
  },
  {
   "cell_type": "markdown",
   "metadata": {},
   "source": [
    "$$ \\frac{1}{N}\\sum_{i=1}^N {x_i}^3 \\approx \\dfrac{\\sigma^3}{\\sqrt{2\\pi}} $$"
   ]
  },
  {
   "cell_type": "code",
   "execution_count": 10,
   "metadata": {},
   "outputs": [
    {
     "data": {
      "text/plain": [
       "array([0.11084092, 1.76664277, 0.58969234, ..., 0.46539287, 0.4709938 ,\n",
       "       1.5733658 ])"
      ]
     },
     "execution_count": 10,
     "metadata": {},
     "output_type": "execute_result"
    }
   ],
   "source": [
    "sigma = 3\n",
    "N = 100000\n",
    "gaussian = stats.norm(0, sigma)\n",
    "sample = np.abs(gaussian.rvs(N))\n",
    "sample"
   ]
  },
  {
   "cell_type": "code",
   "execution_count": 13,
   "metadata": {},
   "outputs": [
    {
     "data": {
      "text/plain": [
       "1.5797446781192437"
      ]
     },
     "execution_count": 13,
     "metadata": {},
     "output_type": "execute_result"
    }
   ],
   "source": [
    "result = np.sum(sample**3)/N\n",
    "result"
   ]
  },
  {
   "cell_type": "code",
   "execution_count": 14,
   "metadata": {},
   "outputs": [
    {
     "data": {
      "text/plain": [
       "0.3989422804014327"
      ]
     },
     "execution_count": 14,
     "metadata": {},
     "output_type": "execute_result"
    }
   ],
   "source": [
    "(sigma**3)/np.sqrt(2*np.pi)"
   ]
  }
 ],
 "metadata": {
  "kernelspec": {
   "display_name": "Astrostatistics",
   "language": "python",
   "name": "python3"
  },
  "language_info": {
   "codemirror_mode": {
    "name": "ipython",
    "version": 3
   },
   "file_extension": ".py",
   "mimetype": "text/x-python",
   "name": "python",
   "nbconvert_exporter": "python",
   "pygments_lexer": "ipython3",
   "version": "3.8.18"
  }
 },
 "nbformat": 4,
 "nbformat_minor": 2
}
